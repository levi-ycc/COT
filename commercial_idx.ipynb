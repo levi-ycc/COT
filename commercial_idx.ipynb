{
 "cells": [
  {
   "cell_type": "code",
   "execution_count": 1,
   "id": "153469ea",
   "metadata": {},
   "outputs": [],
   "source": [
    "import pandas as pd\n",
    "import os\n",
    "import numpy as np\n",
    "import matplotlib.pyplot as plt\n",
    "import sqlite3"
   ]
  },
  {
   "cell_type": "code",
   "execution_count": 2,
   "id": "ef098f9d",
   "metadata": {},
   "outputs": [],
   "source": [
    "conn = sqlite3.connect(\"D:/News/news.db\")\n",
    "\n",
    "conn2 = sqlite3.connect(\"D:/News/price.db\")\n",
    "\n",
    "cot=pd.read_sql('SELECT * FROM COT', conn)\n",
    "\n",
    "sym_list=['EUR', 'GBP', 'NZD' ,'AUD', 'CAD', 'JPY', 'CHF']\n",
    "pair_dict={'EUR':'EURUSD', 'GBP':'GBPUSD', 'NZD':'NZDUSD', 'AUD':'AUDUSD', 'CAD': 'USDCAD', 'JPY': 'USDJPY', 'CHF': 'USDCHF'}"
   ]
  },
  {
   "cell_type": "code",
   "execution_count": 3,
   "id": "7e77ad46",
   "metadata": {},
   "outputs": [
    {
     "name": "stderr",
     "output_type": "stream",
     "text": [
      "C:\\Users\\zekec\\AppData\\Local\\Temp\\ipykernel_9580\\1214437652.py:18: SettingWithCopyWarning: \n",
      "A value is trying to be set on a copy of a slice from a DataFrame.\n",
      "Try using .loc[row_indexer,col_indexer] = value instead\n",
      "\n",
      "See the caveats in the documentation: https://pandas.pydata.org/pandas-docs/stable/user_guide/indexing.html#returning-a-view-versus-a-copy\n",
      "  product['max_comm']=product['Net Comm'].rolling(150).max()\n",
      "C:\\Users\\zekec\\AppData\\Local\\Temp\\ipykernel_9580\\1214437652.py:19: SettingWithCopyWarning: \n",
      "A value is trying to be set on a copy of a slice from a DataFrame.\n",
      "Try using .loc[row_indexer,col_indexer] = value instead\n",
      "\n",
      "See the caveats in the documentation: https://pandas.pydata.org/pandas-docs/stable/user_guide/indexing.html#returning-a-view-versus-a-copy\n",
      "  product['min_comm']=product['Net Comm'].rolling(150).min()\n",
      "C:\\Users\\zekec\\AppData\\Local\\Temp\\ipykernel_9580\\1214437652.py:21: SettingWithCopyWarning: \n",
      "A value is trying to be set on a copy of a slice from a DataFrame.\n",
      "Try using .loc[row_indexer,col_indexer] = value instead\n",
      "\n",
      "See the caveats in the documentation: https://pandas.pydata.org/pandas-docs/stable/user_guide/indexing.html#returning-a-view-versus-a-copy\n",
      "  product['CX']=(product['Net Comm']-product.min_comm)/(product.max_comm-product.min_comm)\n",
      "C:\\Users\\zekec\\AppData\\Local\\Temp\\ipykernel_9580\\1214437652.py:23: SettingWithCopyWarning: \n",
      "A value is trying to be set on a copy of a slice from a DataFrame\n",
      "\n",
      "See the caveats in the documentation: https://pandas.pydata.org/pandas-docs/stable/user_guide/indexing.html#returning-a-view-versus-a-copy\n",
      "  product.dropna(inplace=True)\n"
     ]
    }
   ],
   "source": [
    "for s in sym_list[:1]:\n",
    "    product=cot[cot['PRODUCT']==s]\n",
    "\n",
    "    price = pd.read_sql(\"Select * from PRICE where Sym='{}' and date(Date)>='2018'\".format(pair_dict[s]),conn2)\n",
    "\n",
    "    price.drop(['Sym'], axis=1, inplace=True)\n",
    "\n",
    "    price['Date Time'] = price.Date + ' ' + price.Time\n",
    "\n",
    "    price['Date Time']=pd.to_datetime(price['Date Time'])\n",
    "\n",
    "    price.set_index('Date Time', inplace=True)\n",
    "\n",
    "    daily_price = price['Close'].resample('5D').agg({'Close':'last'})\n",
    "\n",
    "    product.set_index(pd.to_datetime(product.DATE), inplace=True)\n",
    "\n",
    "    product['max_comm']=product['Net Comm'].rolling(150).max()\n",
    "    product['min_comm']=product['Net Comm'].rolling(150).min()\n",
    "\n",
    "    product['CX']=(product['Net Comm']-product.min_comm)/(product.max_comm-product.min_comm)\n",
    "\n",
    "    product.dropna(inplace=True)\n",
    "\n",
    "    merged=product.join(daily_price).dropna()\n",
    "\n",
    "    fig, ax = plt.subplots(3,1, figsize=(30,15), gridspec_kw={'height_ratios': [2, 1, 1]})\n",
    "    ax[0].plot(merged.Close.iloc[-100:])\n",
    "    ax[0].set_title(s, fontdict={'fontsize':24})\n",
    "    ax[1].plot(merged.CX.iloc[-100:])\n",
    "    ax[1].axhline(0.75, color='red')\n",
    "    ax[1].set_title('CX', fontdict={'fontsize':24})\n",
    "    ax[1].axhline(0.25, color='red')\n",
    "    ax[2].plot(merged.OI.iloc[-100:])\n",
    "    ax[2].set_title('OI', fontdict={'fontsize':24})\n",
    "\n",
    "    plt.savefig('report/{}.jpg'.format(s))\n",
    "    plt.close()"
   ]
  },
  {
   "cell_type": "code",
   "execution_count": null,
   "id": "c0939a41",
   "metadata": {},
   "outputs": [],
   "source": []
  }
 ],
 "metadata": {
  "kernelspec": {
   "display_name": "Python 3 (ipykernel)",
   "language": "python",
   "name": "python3"
  },
  "language_info": {
   "codemirror_mode": {
    "name": "ipython",
    "version": 3
   },
   "file_extension": ".py",
   "mimetype": "text/x-python",
   "name": "python",
   "nbconvert_exporter": "python",
   "pygments_lexer": "ipython3",
   "version": "3.9.13"
  }
 },
 "nbformat": 4,
 "nbformat_minor": 5
}
